{
 "cells": [
  {
   "cell_type": "code",
   "execution_count": 2,
   "metadata": {},
   "outputs": [],
   "source": [
    "import pandas as pd\n",
    "import numpy as np\n",
    "from os import listdir\n",
    "from scipy import signal\n",
    "import matplotlib.pyplot as plt\n",
    "import matplotlib.pylab as pylab\n",
    "from scipy import stats as st\n",
    "from sklearn.preprocessing import scale"
   ]
  },
  {
   "cell_type": "code",
   "execution_count": 434,
   "metadata": {},
   "outputs": [],
   "source": [
    "M_ = 20 # days to review\n",
    "L_ = 10 #days to predict\n",
    "M = np.linspace(1,M_,M_).astype('int')\n",
    "L = np.linspace(1,L_,L_).astype('int')"
   ]
  },
  {
   "cell_type": "code",
   "execution_count": 6,
   "metadata": {},
   "outputs": [],
   "source": [
    "def DMD(data, r):\n",
    "    ## Build data matrices\n",
    "    X1 = data[:, : -1]\n",
    "    X2 = data[:, 1 :]\n",
    "    ## Perform singular value decomposition on X1\n",
    "    u, s, v = np.linalg.svd(X1, full_matrices = False)\n",
    "    ## Compute the Koopman matrix\n",
    "    A_tilde = u[:, : r].conj().T @ X2 @ v[: r, :].conj().T * np.reciprocal(s[: r])\n",
    "    ## Perform eigenvalue decomposition on A_tilde\n",
    "    Phi, Q = np.linalg.eig(A_tilde)\n",
    "    ## Compute the coefficient matrix\n",
    "    Psi = X2 @ v[: r, :].conj().T @ np.diag(np.reciprocal(s[: r])) @ Q\n",
    "    A = Psi @ np.diag(Phi) @ np.linalg.pinv(Psi)\n",
    "    \n",
    "    return A_tilde, Phi, A"
   ]
  },
  {
   "cell_type": "code",
   "execution_count": 7,
   "metadata": {},
   "outputs": [],
   "source": [
    "def DMD4cast(data, r, pred_step):\n",
    "    N, T = data.shape\n",
    "    _, _, A = DMD(data, r)\n",
    "    mat = np.append(data, np.zeros((N, pred_step)), axis = 1)\n",
    "    for s in range(pred_step):\n",
    "        mat[:, T + s] = (A @ mat[:, T + s - 1]).real\n",
    "    return mat[:, - pred_step :]"
   ]
  },
  {
   "cell_type": "code",
   "execution_count": 8,
   "metadata": {},
   "outputs": [],
   "source": [
    "def finder(X,accu=0.95):\n",
    "    _, s, _ = np.linalg.svd(X, full_matrices = False)\n",
    "    if np.sum(s)==0:\n",
    "        return 0\n",
    "    for i in np.arange(0,s.shape[0]):\n",
    "        energy = np.sum(s[:i])/np.sum(s)\n",
    "        if energy>accu:\n",
    "            return i"
   ]
  },
  {
   "cell_type": "code",
   "execution_count": 9,
   "metadata": {},
   "outputs": [],
   "source": [
    "def oldest(data):\n",
    "    years = []\n",
    "    for i in range(len(data)):\n",
    "        year = np.array(data[i][\"Date\"].iloc[0].split(sep = \"-\")).astype('int')\n",
    "        years.append(year)\n",
    "    return years"
   ]
  },
  {
   "cell_type": "code",
   "execution_count": 10,
   "metadata": {},
   "outputs": [],
   "source": [
    "def loader(cat_root):\n",
    "    companies = listdir(cat_root)\n",
    "    dat = []\n",
    "    for i in companies:\n",
    "        \n",
    "        a = pd.read_csv(cat_root+i)\n",
    "        a1 = a.dropna()\n",
    "        if a1.shape[0] != a.shape[0]:\n",
    "            continue \n",
    "        a.drop(columns=['High','Low','Adjusted Close','Volume'],inplace=True)\n",
    "        #a.dropna(inplace=True)\n",
    "        dat.append(a)\n",
    "    return dat"
   ]
  },
  {
   "cell_type": "code",
   "execution_count": 211,
   "metadata": {},
   "outputs": [],
   "source": [
    "def update(dat):\n",
    "    new_data = []\n",
    "    old = np.array(oldest(dat))\n",
    "    y = np.sort(np.unique(old[:,2]))\n",
    "    if y[-1]>2022:\n",
    "        \n",
    "        if old[old[:,2]==y[-1]].shape[0]/old.shape[0] < 0.1:\n",
    "            for i in np.where(old[:,2]==y[-1])[0]:\n",
    "                dat.pop(i)\n",
    "                \n",
    "    old = np.array(oldest(dat))\n",
    "    year = max(old[:,2])\n",
    "    search = old[old[:,2]==year]\n",
    "    month = max(search[:,1])\n",
    "    last = old[(old[:,2]==year)&(old[:,1]==month)][0]\n",
    "\n",
    "    \n",
    "    for i in range(len(dat)):\n",
    "\n",
    "        years = np.array([np.array(dat[i][\"Date\"].values[j].split(sep=\"-\")).astype('int') for j in range(dat[i][\"Date\"].values.shape[0])])\n",
    "        mask = np.prod(years==last,axis=1).astype('bool')\n",
    "        ind = min(np.where(mask)[0])\n",
    "        #dat[i].set_index('Date',inplace=True)\n",
    "        new_data.append(dat[i].loc[ind:])\n",
    "    return new_data"
   ]
  },
  {
   "cell_type": "code",
   "execution_count": 355,
   "metadata": {},
   "outputs": [],
   "source": [
    "def smoother(dat):\n",
    "    new_data = []\n",
    "    for i in range(len(dat)):\n",
    "      comp = dat[i].set_index('Date')\n",
    "      comp['Close'] = (comp['Close'].rolling(3).mean())\n",
    "      comp['Open'] = (comp['Open'].rolling(3).mean())\n",
    "      comp.dropna(inplace=True, axis=0)\n",
    "      new_data.append(comp)\n",
    "    return new_data"
   ]
  },
  {
   "cell_type": "code",
   "execution_count": 12,
   "metadata": {},
   "outputs": [],
   "source": [
    "def comp_load(dat):\n",
    "    X = []\n",
    "    Y = []\n",
    "    for company in dat:\n",
    "        comp = company['Close'].values\n",
    "        comp2 = company['Open'].values\n",
    "        #if comp.shape[0]*0.5 > np.sum(comp):\n",
    "        #    continue   \n",
    "        X.append(comp) # el primero es viejo el ultimo es el mas nuevo\n",
    "        Y.append(comp2)\n",
    "    r = np.array(pd.DataFrame(X).dropna())\n",
    "    r2 = np.array(pd.DataFrame(Y).dropna())\n",
    "    return r,r2"
   ]
  },
  {
   "cell_type": "code",
   "execution_count": 13,
   "metadata": {},
   "outputs": [],
   "source": [
    "def scoring(pred,real):\n",
    "    varr= (real[:,-1]-real[:,0])/real[:,0]\n",
    "    varp = (pred[:,-1]-real[:,0])/real[:,0]\n",
    "    upp = varp>=0\n",
    "    downp =  varp<0\n",
    "    upr = varr>=0\n",
    "    downr =  varr<0\n",
    "    score = (upp & upr)|(downp&downr)\n",
    "    return np.mean(score)"
   ]
  },
  {
   "cell_type": "code",
   "execution_count": 14,
   "metadata": {},
   "outputs": [],
   "source": [
    "def scoring2(pred,real):\n",
    "    varr= (real[:,1:]-real[:,:-1])/real[:,:-1]\n",
    "    varp = (pred[:,1:]-real[:,:-1])/real[:,:-1]\n",
    "    upp = varp>=0\n",
    "    downp =  varp<0\n",
    "    upr = varr>=0\n",
    "    downr =  varr<0\n",
    "    score = (upp & upr)|(downp&downr)\n",
    "    l_score = np.mean(score,axis=1)\n",
    "    return np.mean(l_score,axis=0)"
   ]
  },
  {
   "cell_type": "code",
   "execution_count": 15,
   "metadata": {},
   "outputs": [],
   "source": [
    "def suma(a):\n",
    "    t = np.array(a)\n",
    "    f = t.astype('bool')\n",
    "    s = np.sum(t[f])\n",
    "    if s==0:\n",
    "        return None\n",
    "    return s"
   ]
  },
  {
   "cell_type": "code",
   "execution_count": 34,
   "metadata": {},
   "outputs": [],
   "source": [
    "def griderEMA(X,accu=0.95,seed=100, num =100):\n",
    "         \n",
    "        grid = np.zeros((M.shape[0],L.shape[0]))\n",
    "        weights = np.ones(num)#np.arange(1,num+1)\n",
    "        w2 = weights/np.sum(weights)\n",
    "        for m in M:\n",
    "                for l in L:\n",
    "                        aux = []\n",
    "                        for off in np.arange(0,num):\n",
    "                                r = finder(X[:, suma([-off,-m,-seed,-l])  :  suma([-off,-l,-seed]) ], accu )\n",
    "                                pred = DMD4cast(X[:, suma([-off,-m,-seed,-l,1]) : suma([-off,-l,-seed,1]) ], r ,l)\n",
    "                                real = X[:, suma([-off,-l,-seed,-1]):suma([-off,-seed])]\n",
    "                                aux.append(scoring(pred,real))\n",
    "\n",
    "                        aux = np.array(aux)\n",
    "\n",
    "                        grid[m-1,l-1] = np.sum(aux*w2)\n",
    "        return grid"
   ]
  },
  {
   "cell_type": "code",
   "execution_count": 218,
   "metadata": {},
   "outputs": [],
   "source": [
    "def griderEMA2(X,accu=0.95,seed=100, num =100):\n",
    "        \n",
    "        grid = np.zeros((M.shape[0],L.shape[0]))\n",
    "        weights = np.ones(num)#np.arange(1,num+1)\n",
    "        w2 = weights/np.sum(weights) \n",
    "        for m in M:\n",
    "                for l in L:\n",
    "                        aux = []\n",
    "                        for off in np.arange(0,num):\n",
    "                                r = finder(X[:, (-off-m-seed-l)  :  -off-l-seed ], accu )\n",
    "                                pred = DMD4cast(X[:, (-off-m-seed-l) : (-off-l-seed) ], r ,l)\n",
    "                                real = X[:, (-off-l-seed):(-off-seed)]\n",
    "                                aux.append(scoring2(pred,real))\n",
    "                        aux = np.array(aux)\n",
    "                        grid[m-1,l-1] = np.sum(aux*w2)\n",
    "        return grid"
   ]
  },
  {
   "attachments": {},
   "cell_type": "markdown",
   "metadata": {},
   "source": [
    "## Train ALL"
   ]
  },
  {
   "cell_type": "code",
   "execution_count": 16,
   "metadata": {},
   "outputs": [],
   "source": [
    "data_path = '../stock-market-scraper-master/historic_data/'\n",
    "categories = listdir(data_path)\n",
    "grids = []"
   ]
  },
  {
   "cell_type": "code",
   "execution_count": 209,
   "metadata": {},
   "outputs": [],
   "source": [
    "num = M_ * 2\n",
    "seed = 1\n",
    "true_cat = []\n",
    "for cat in categories:\n",
    "    try:\n",
    "        root = data_path + cat +'/'\n",
    "        data_pre = loader(root)\n",
    "        data = update(data_pre)\n",
    "        X = comp_load(data)\n",
    "        grid = griderEMA2(X,0.95,seed,num)\n",
    "        grids.append(grid)\n",
    "        true_cat.append(cat)\n",
    "    except:\n",
    "        print(cat)\n",
    "        continue"
   ]
  },
  {
   "cell_type": "code",
   "execution_count": 210,
   "metadata": {},
   "outputs": [],
   "source": [
    "conv_grids = []\n",
    "points_max = []\n",
    "shape = (3,3)  \n",
    "for grid in grids:\n",
    "    kernel = np.full(shape,1/(shape[0]*shape[1]))\n",
    "    grad = signal.convolve2d(grid, kernel, boundary='symm', mode='same')\n",
    "    conv_grids.append(grad)\n",
    "    x , y = np.where(grad==np.max(grad))\n",
    "    points_max.append((x,y))\n"
   ]
  },
  {
   "cell_type": "code",
   "execution_count": 184,
   "metadata": {},
   "outputs": [],
   "source": [
    "np.save('grids_v2.npy',grids)\n",
    "np.save('pointsmax.npy',points_max)"
   ]
  },
  {
   "cell_type": "code",
   "execution_count": 211,
   "metadata": {},
   "outputs": [],
   "source": [
    "%matplotlib qt5\n",
    "Nc = 4\n",
    "Nr = 40//4\n",
    "fig, axs = plt.subplots(Nr, Nc,figsize=(30,30 ),facecolor='lightskyblue',layout='constrained')\n",
    "fig.set_facecolor('0.85')\n",
    "fig.suptitle('Categories')\n",
    "\n",
    "images = []\n",
    "ind = 0\n",
    "for i in range(Nr):\n",
    "    for j in range(Nc):\n",
    "        # Generate data with a range that varies from one plot to the next.\n",
    "        ind = i*Nc + j\n",
    "        if len(grids)<ind+1:\n",
    "            break\n",
    "        cut= np.histogram(grad.ravel())[1][-2]\n",
    "        data = (conv_grids[ind]>cut)*1.0 + (conv_grids[ind]==np.max(conv_grids[ind]))*1.0\n",
    "        images.append(axs[i, j].imshow(data))\n",
    "        axs[i, j].set_title(true_cat[ind]+' '+str(np.round(cut,2)),loc='left')\n",
    "        axs[i, j].label_outer()"
   ]
  },
  {
   "cell_type": "code",
   "execution_count": 212,
   "metadata": {},
   "outputs": [
    {
     "data": {
      "text/plain": [
       "['Apparel Stores',\n",
       " 'Application Software',\n",
       " 'Asset Management',\n",
       " 'Credit Services',\n",
       " 'Drug Manufacturers - Major',\n",
       " 'Electric Utilities',\n",
       " 'Foreign Regional Banks',\n",
       " 'Gold',\n",
       " 'Internet Information Providers',\n",
       " 'Money Center Banks',\n",
       " 'Multimedia & Graphics Software',\n",
       " 'Personal Products',\n",
       " 'REIT - Diversified',\n",
       " 'Telecom Services - Domestic']"
      ]
     },
     "execution_count": 212,
     "metadata": {},
     "output_type": "execute_result"
    }
   ],
   "source": [
    "categ"
   ]
  },
  {
   "attachments": {},
   "cell_type": "markdown",
   "metadata": {},
   "source": [
    "## Train Single"
   ]
  },
  {
   "cell_type": "code",
   "execution_count": 493,
   "metadata": {},
   "outputs": [
    {
     "data": {
      "text/plain": [
       "(33, 259)"
      ]
     },
     "execution_count": 493,
     "metadata": {},
     "output_type": "execute_result"
    }
   ],
   "source": [
    "#root = 'Electric/'\n",
    "root = \"../stock-market-scraper-master/historic_data/Electric Utilities/\"\n",
    "data_pre = loader(root) \n",
    "data_true = update(data_pre)\n",
    "data_smooth = smoother(data_true)\n",
    "X,Y = comp_load(data_smooth)\n",
    "data_true = [ data_true[i].set_index('Date') for i in range(len(data_true))]\n",
    "X_t , Y_t = comp_load(data_true)\n",
    "X.shape"
   ]
  },
  {
   "cell_type": "code",
   "execution_count": 494,
   "metadata": {},
   "outputs": [
    {
     "data": {
      "text/plain": [
       "<Axes: xlabel='Date'>"
      ]
     },
     "execution_count": 494,
     "metadata": {},
     "output_type": "execute_result"
    },
    {
     "data": {
      "image/png": "[encoded data removed]",
      "text/plain": [
       "<Figure size 640x480 with 1 Axes>"
      ]
     },
     "metadata": {},
     "output_type": "display_data"
    }
   ],
   "source": [
    "data_true[1].Close.plot()\n",
    "data_smooth[1].Close.plot()"
   ]
  },
  {
   "cell_type": "code",
   "execution_count": 514,
   "metadata": {},
   "outputs": [],
   "source": [
    "num = 100\n",
    "seed = 8\n",
    "grid = griderEMA(X,0.95,seed,num)\n",
    "#grid2 = griderEMA(Y,0.95,seed,num)"
   ]
  },
  {
   "attachments": {},
   "cell_type": "markdown",
   "metadata": {},
   "source": [
    "## Convoluciono el mapeo del grid para encontrar cuantos dias atras tengo que investigar\n",
    "(la idea es buscar puntos calientes en el grid, es decir, cluster de buenas predicciones)"
   ]
  },
  {
   "cell_type": "code",
   "execution_count": 515,
   "metadata": {},
   "outputs": [
    {
     "data": {
      "text/plain": [
       "0.7731885521885522"
      ]
     },
     "execution_count": 515,
     "metadata": {},
     "output_type": "execute_result"
    },
    {
     "data": {
      "image/png": "[encoded data removed]",
      "text/plain": [
       "<Figure size 640x480 with 1 Axes>"
      ]
     },
     "metadata": {},
     "output_type": "display_data"
    }
   ],
   "source": [
    "shape = (3,3)\n",
    "kernel = np.full(shape,1/(shape[0]*shape[1]))\n",
    "grad = signal.convolve2d(grid2, kernel, boundary='symm', mode='same')\n",
    "x , y = np.where(grad==np.max(grad))\n",
    "h = np.histogram(grad.ravel(),10)\n",
    "pylab.hist(grad.ravel(),h[1], color='g')\n",
    "cut = h[1][-2]\n",
    "cut"
   ]
  },
  {
   "cell_type": "code",
   "execution_count": 516,
   "metadata": {},
   "outputs": [
    {
     "data": {
      "text/plain": [
       "<matplotlib.colorbar.Colorbar at 0x199064081d0>"
      ]
     },
     "execution_count": 516,
     "metadata": {},
     "output_type": "execute_result"
    },
    {
     "data": {
      "image/png": "[encoded data removed]",
      "text/plain": [
       "<Figure size 640x480 with 2 Axes>"
      ]
     },
     "metadata": {},
     "output_type": "display_data"
    }
   ],
   "source": [
    "view = (grad>0.6)*1.0 + (grad==np.max(grad))*1.0\n",
    "plt.imshow(view)\n",
    "plt.ylabel('M')\n",
    "plt.xlabel('L')\n",
    "plt.title(root.split(sep=\"/\")[-2])\n",
    "plt.colorbar()"
   ]
  },
  {
   "cell_type": "code",
   "execution_count": 517,
   "metadata": {},
   "outputs": [
    {
     "name": "stdout",
     "output_type": "stream",
     "text": [
      "3 1\n",
      "3 1\n",
      "ok\n"
     ]
    }
   ],
   "source": [
    "if (np.max(grad)>0.53) & (cut>0.53):\n",
    "    if grad[x[0],y[0]] == np.max(grad):\n",
    "        m = x[0]+1\n",
    "        l = y[0]+1\n",
    "        print(m,l)\n",
    "else:\n",
    "    print('No se compra')\n",
    "if np.abs(m-l)>1:\n",
    "    if m>l:\n",
    "        print(m,l)\n",
    "        print('ok')\n",
    "    else:\n",
    "        print('No se compra')"
   ]
  },
  {
   "attachments": {},
   "cell_type": "markdown",
   "metadata": {},
   "source": [
    "## Test"
   ]
  },
  {
   "cell_type": "code",
   "execution_count": 456,
   "metadata": {},
   "outputs": [],
   "source": [
    "m = 18\n",
    "l = 11"
   ]
  },
  {
   "cell_type": "code",
   "execution_count": 428,
   "metadata": {},
   "outputs": [
    {
     "ename": "NameError",
     "evalue": "name 'categ' is not defined",
     "output_type": "error",
     "traceback": [
      "\u001b[1;31m---------------------------------------------------------------------------\u001b[0m",
      "\u001b[1;31mNameError\u001b[0m                                 Traceback (most recent call last)",
      "Cell \u001b[1;32mIn[428], line 2\u001b[0m\n\u001b[0;32m      1\u001b[0m cat \u001b[39m=\u001b[39m \u001b[39m\"\u001b[39m\u001b[39mApparel Stores\u001b[39m\u001b[39m\"\u001b[39m\n\u001b[1;32m----> 2\u001b[0m cate \u001b[39m=\u001b[39m np\u001b[39m.\u001b[39marray(categ)\n\u001b[0;32m      3\u001b[0m m,l \u001b[39m=\u001b[39m p[np\u001b[39m.\u001b[39mwhere(cate\u001b[39m==\u001b[39mcat)[\u001b[39m0\u001b[39m][\u001b[39m0\u001b[39m]]\n\u001b[0;32m      4\u001b[0m \u001b[39mprint\u001b[39m(m,l)\n",
      "\u001b[1;31mNameError\u001b[0m: name 'categ' is not defined"
     ]
    }
   ],
   "source": [
    "cat = \"Apparel Stores\"\n",
    "cate = np.array(categ)\n",
    "m,l = p[np.where(cate==cat)[0][0]]\n",
    "print(m,l)\n",
    "root = \"../stock-market-scraper-master/historic_data/\" + cat + \"/\"\n",
    "data_pre = loader(root)\n",
    "data = update(data_pre)\n",
    "X = comp_load(data) "
   ]
  },
  {
   "cell_type": "code",
   "execution_count": 537,
   "metadata": {},
   "outputs": [
    {
     "data": {
      "text/html": [
       "<div>\n",
       "<style scoped>\n",
       "    .dataframe tbody tr th:only-of-type {\n",
       "        vertical-align: middle;\n",
       "    }\n",
       "\n",
       "    .dataframe tbody tr th {\n",
       "        vertical-align: top;\n",
       "    }\n",
       "\n",
       "    .dataframe thead th {\n",
       "        text-align: right;\n",
       "    }\n",
       "</style>\n",
       "<table border=\"1\" class=\"dataframe\">\n",
       "  <thead>\n",
       "    <tr style=\"text-align: right;\">\n",
       "      <th></th>\n",
       "      <th>Open</th>\n",
       "      <th>Close</th>\n",
       "    </tr>\n",
       "    <tr>\n",
       "      <th>Date</th>\n",
       "      <th></th>\n",
       "      <th></th>\n",
       "    </tr>\n",
       "  </thead>\n",
       "  <tbody>\n",
       "    <tr>\n",
       "      <th>18-04-2022</th>\n",
       "      <td>96.559998</td>\n",
       "      <td>96.080002</td>\n",
       "    </tr>\n",
       "    <tr>\n",
       "      <th>19-04-2022</th>\n",
       "      <td>96.540001</td>\n",
       "      <td>96.620003</td>\n",
       "    </tr>\n",
       "    <tr>\n",
       "      <th>20-04-2022</th>\n",
       "      <td>97.519997</td>\n",
       "      <td>98.510002</td>\n",
       "    </tr>\n",
       "    <tr>\n",
       "      <th>21-04-2022</th>\n",
       "      <td>98.489998</td>\n",
       "      <td>97.809998</td>\n",
       "    </tr>\n",
       "    <tr>\n",
       "      <th>22-04-2022</th>\n",
       "      <td>97.690002</td>\n",
       "      <td>96.879997</td>\n",
       "    </tr>\n",
       "    <tr>\n",
       "      <th>...</th>\n",
       "      <td>...</td>\n",
       "      <td>...</td>\n",
       "    </tr>\n",
       "    <tr>\n",
       "      <th>21-04-2023</th>\n",
       "      <td>90.239998</td>\n",
       "      <td>89.959999</td>\n",
       "    </tr>\n",
       "    <tr>\n",
       "      <th>24-04-2023</th>\n",
       "      <td>90.089996</td>\n",
       "      <td>90.720001</td>\n",
       "    </tr>\n",
       "    <tr>\n",
       "      <th>25-04-2023</th>\n",
       "      <td>90.760002</td>\n",
       "      <td>90.760002</td>\n",
       "    </tr>\n",
       "    <tr>\n",
       "      <th>26-04-2023</th>\n",
       "      <td>90.029999</td>\n",
       "      <td>88.989998</td>\n",
       "    </tr>\n",
       "    <tr>\n",
       "      <th>27-04-2023</th>\n",
       "      <td>88.879997</td>\n",
       "      <td>89.730003</td>\n",
       "    </tr>\n",
       "  </tbody>\n",
       "</table>\n",
       "<p>259 rows × 2 columns</p>\n",
       "</div>"
      ],
      "text/plain": [
       "                 Open      Close\n",
       "Date                            \n",
       "18-04-2022  96.559998  96.080002\n",
       "19-04-2022  96.540001  96.620003\n",
       "20-04-2022  97.519997  98.510002\n",
       "21-04-2022  98.489998  97.809998\n",
       "22-04-2022  97.690002  96.879997\n",
       "...               ...        ...\n",
       "21-04-2023  90.239998  89.959999\n",
       "24-04-2023  90.089996  90.720001\n",
       "25-04-2023  90.760002  90.760002\n",
       "26-04-2023  90.029999  88.989998\n",
       "27-04-2023  88.879997  89.730003\n",
       "\n",
       "[259 rows x 2 columns]"
      ]
     },
     "execution_count": 537,
     "metadata": {},
     "output_type": "execute_result"
    }
   ],
   "source": [
    "data_true[0][2:]"
   ]
  },
  {
   "cell_type": "code",
   "execution_count": 542,
   "metadata": {},
   "outputs": [],
   "source": [
    "off = seed+1"
   ]
  },
  {
   "cell_type": "code",
   "execution_count": 547,
   "metadata": {},
   "outputs": [],
   "source": [
    "test = X[:,suma([-m,-off]):suma([-off])]#+1\n",
    "proof = X_t[:,suma([-off,-1]):suma([-off,l])]\n",
    "#finder(test,0.95)\n",
    "t = DMD4cast(test, finder(test,0.95) ,l)\n",
    "prediction = ((t[:,-1]-proof[:,0])/proof[:,0] )\n",
    "pred = prediction>0.0\n",
    "if np.sum(pred) < X.shape[0]*0.1:\n",
    "    if np.sum(pred) == 0:\n",
    "        print('No hay')\n",
    "    print('Hay pocos')"
   ]
  },
  {
   "cell_type": "code",
   "execution_count": 520,
   "metadata": {},
   "outputs": [],
   "source": [
    "reality = (proof[:,-1]-proof[:,0])/proof[:,0]\n",
    "real = reality>0"
   ]
  },
  {
   "cell_type": "code",
   "execution_count": 521,
   "metadata": {},
   "outputs": [
    {
     "name": "stdout",
     "output_type": "stream",
     "text": [
      "predijo correctamente el 84.2%\n"
     ]
    }
   ],
   "source": [
    "accu = np.sum(real&pred)*100/np.sum(pred)\n",
    "print('predijo correctamente el {0:.3}%'.format(accu))"
   ]
  },
  {
   "cell_type": "code",
   "execution_count": 522,
   "metadata": {},
   "outputs": [
    {
     "name": "stdout",
     "output_type": "stream",
     "text": [
      "Inverti la misma cantidad de plata en 19 acciones y gane un 0.506%\n"
     ]
    }
   ],
   "source": [
    "stocks = np.sum(pred)\n",
    "interest = np.sum((reality)[pred])/stocks\n",
    "print('Inverti la misma cantidad de plata en {0} acciones y gane un {1:.3}%'.format(stocks,interest*100))"
   ]
  },
  {
   "cell_type": "code",
   "execution_count": 523,
   "metadata": {},
   "outputs": [
    {
     "name": "stdout",
     "output_type": "stream",
     "text": [
      "Inverti la cantidad de plata proporcional a la prediccion en 19 acciones y gane un 0.486%\n"
     ]
    }
   ],
   "source": [
    "weight = (prediction)[pred]/np.sum((prediction)[pred])\n",
    "interest = np.sum((weight*(reality[pred])))\n",
    "print('Inverti la cantidad de plata proporcional a la prediccion en {0} acciones y gane un {1:.3}%'.format(stocks,interest*100))"
   ]
  },
  {
   "cell_type": "code",
   "execution_count": 524,
   "metadata": {},
   "outputs": [
    {
     "name": "stdout",
     "output_type": "stream",
     "text": [
      "Inverti toda la plata en la accion que mas predigo que crece y gane un 1.17%\n"
     ]
    }
   ],
   "source": [
    "pred2 = (prediction) ==  np.max(prediction)\n",
    "interest = reality[pred2][0]\n",
    "print('Inverti toda la plata en la accion que mas predigo que crece y gane un {0:.3}%'.format(interest*100))"
   ]
  },
  {
   "attachments": {},
   "cell_type": "markdown",
   "metadata": {},
   "source": [
    "## BLob Detector"
   ]
  },
  {
   "cell_type": "code",
   "execution_count": 17,
   "metadata": {},
   "outputs": [],
   "source": [
    "def pointer(grad,cut):\n",
    "    x , y = np.where(grad==np.max(grad))\n",
    "    if (np.max(grad)>0.54) & (cut>0.54):\n",
    "            return x[0],y[0]\n",
    "    else:\n",
    "        return 0,0"
   ]
  },
  {
   "cell_type": "code",
   "execution_count": 18,
   "metadata": {},
   "outputs": [],
   "source": [
    "def nigh(grid,m,l):\n",
    "\n",
    "    near = grid[m+1,l]*1 + grid[m,l+1]*1 + grid[m-1,l]*1 + grid[m,l-1]*1\n",
    "    if near<4:\n",
    "        return False\n",
    "        \n",
    "    return True    \n",
    "    "
   ]
  },
  {
   "cell_type": "code",
   "execution_count": 19,
   "metadata": {},
   "outputs": [],
   "source": [
    "def floodfill(surface,x, y):\n",
    "    oldColor=1 \n",
    "    newColor=0\n",
    "    weight = 0\n",
    "    # assume surface is a 2D image and surface[x][y] is the color at x, y.\n",
    "    theStack = [ (x, y) ]\n",
    "    flag= nigh(surface,x,y)\n",
    "    while len(theStack) > 0:\n",
    "\n",
    "        x, y = theStack.pop()\n",
    "\n",
    "        if surface[x][y] != oldColor:\n",
    "\n",
    "            continue\n",
    "\n",
    "        surface[x][y] = newColor\n",
    "        weight+=1\n",
    "        \n",
    "        if x+1 < surface.shape[0]:\n",
    "            theStack.append( (x + 1, y) )  # right\n",
    "        \n",
    "            theStack.append( (x - 1, y) )  # left\n",
    "        \n",
    "        if y+1 < surface.shape[1]:\n",
    "            theStack.append( (x, y + 1) )  # down\n",
    "        \n",
    "        theStack.append( (x, y - 1) )  # up\n",
    "    if np.sum(surface)==0:\n",
    "        return False\n",
    "        \n",
    "    ratio = weight/np.sum(surface)\n",
    "    if ratio<0.8:\n",
    "        flag = False\n",
    "        \n",
    "    return flag"
   ]
  },
  {
   "attachments": {},
   "cell_type": "markdown",
   "metadata": {},
   "source": [
    "## Category finder"
   ]
  },
  {
   "cell_type": "code",
   "execution_count": 21,
   "metadata": {},
   "outputs": [],
   "source": [
    "data_path = '../stock-market-scraper-master/historic_data/'\n",
    "categories = listdir(data_path)\n",
    "shape = (3,3)\n",
    "kernel = np.full(shape,1/(shape[0]*shape[1]))\n",
    "\n",
    "def scavenger(categories,seed,num):\n",
    "    true_cat = []\n",
    "    max_points = []\n",
    "    for cat in categories:\n",
    "        try: \n",
    "            root = data_path + cat +'/'\n",
    "            data_pre = loader(root)\n",
    "            data = update(data_pre)\n",
    "            X , _  = comp_load(data)\n",
    "            grid = griderEMA(X,0.95,seed,num)\n",
    "        except:\n",
    "            print('There was an exception in '+ cat+' for seed '+ str(seed))\n",
    "            continue\n",
    "        grad = signal.convolve2d(grid, kernel, boundary='symm', mode='same')\n",
    "        cut = np.histogram(grad.ravel())[1][-2]\n",
    "        surface = grad>cut\n",
    "\n",
    "        m,l = pointer(grad,cut)\n",
    "        if (m>=M_-1) | (l>=L_-1):\n",
    "            continue\n",
    "        if (m<=1) | (l<=1):\n",
    "            continue\n",
    "        if m/l < 0.6:\n",
    "            continue\n",
    "\n",
    "        if floodfill(surface,m,l):\n",
    "            true_cat.append(cat)\n",
    "            m = m + 1\n",
    "            l = l + 1\n",
    "            max_points.append((m,l))\n",
    "    return true_cat,max_points\n"
   ]
  },
  {
   "attachments": {},
   "cell_type": "markdown",
   "metadata": {},
   "source": [
    "## Relative Strength "
   ]
  },
  {
   "cell_type": "code",
   "execution_count": null,
   "metadata": {},
   "outputs": [],
   "source": [
    "def relative_strength_idx(dat, n=14):\n",
    "    rsi = []\n",
    "    for i in range(dat):\n",
    "        close = dat[i]['Close']\n",
    "        delta = close.diff()\n",
    "        delta = delta[1:]\n",
    "        pricesUp = delta.copy()\n",
    "        pricesDown = delta.copy()\n",
    "        pricesUp[pricesUp < 0] = 0\n",
    "        pricesDown[pricesDown > 0] = 0\n",
    "        rollUp = pricesUp.rolling(n).mean()\n",
    "        rollDown = pricesDown.abs().rolling(n).mean()\n",
    "        rs = rollUp / rollDown\n",
    "        rsi.append(100.0 - (100.0 / (1.0 + rs)))\n",
    "    return rsi"
   ]
  },
  {
   "cell_type": "code",
   "execution_count": 22,
   "metadata": {},
   "outputs": [
    {
     "data": {
      "text/plain": [
       "['Apparel Stores', 'Money Center Banks', 'Multimedia & Graphics Software']"
      ]
     },
     "execution_count": 22,
     "metadata": {},
     "output_type": "execute_result"
    }
   ],
   "source": [
    "categ , p = scavenger(categories,20,5)\n",
    "categ"
   ]
  },
  {
   "cell_type": "code",
   "execution_count": 25,
   "metadata": {},
   "outputs": [
    {
     "name": "stdout",
     "output_type": "stream",
     "text": [
      "Hay pocos Apparel Stores\n",
      "Hay pocos Multimedia & Graphics Software\n",
      "0.049567121688467004 [-0.012398897665549129, 0.09699768099387511, 0.06410258173707503]\n"
     ]
    }
   ],
   "source": [
    "result, aux = tester(categ,p,20)\n",
    "print(result,aux)"
   ]
  },
  {
   "cell_type": "code",
   "execution_count": 24,
   "metadata": {},
   "outputs": [],
   "source": [
    "def tester(categ,p,seed):\n",
    "    aux = []\n",
    "    categ = np.array(categ)\n",
    "    for cat in categ:\n",
    "        \n",
    "        m,l = p[np.where(categ==cat)[0][0]]\n",
    "        root = data_path + cat +'/'\n",
    "        data_pre = loader(root)\n",
    "        data = update(data_pre)\n",
    "        X, _ = comp_load(data)\n",
    "\n",
    "        test = X[:,suma([-m,-seed]):suma([-seed])]#+1\n",
    "        proof = X[:,suma([-seed,-1]):suma([-seed,l])]\n",
    "        f = finder(test,0.95)\n",
    "        if f == 0:\n",
    "            print('Problems in finder '+ cat)\n",
    "            continue\n",
    "        t = DMD4cast(test, finder(test,0.95) ,l)\n",
    "        prediction = ((t[:,-1]-proof[:,0])/proof[:,0] )\n",
    "        pred = prediction>0.05\n",
    "        comp = np.sum(pred)\n",
    "        if comp < 2:\n",
    "            print('Hay pocos '+ cat)\n",
    "            #continue\n",
    "        reality = (proof[:,-1]-proof[:,0])/proof[:,0]\n",
    "\n",
    "        interest = np.sum(reality[ prediction ==  np.max(prediction) ])\n",
    "        aux.append(interest)\n",
    "    return np.sum(aux)/len(aux) ,aux"
   ]
  },
  {
   "cell_type": "code",
   "execution_count": 29,
   "metadata": {},
   "outputs": [
    {
     "name": "stdout",
     "output_type": "stream",
     "text": [
      "Hay pocos Apparel Stores\n",
      "Hay pocos Personal Products\n",
      "Hay pocos Telecom Services - Domestic\n",
      "49\n",
      "Hay pocos Apparel Stores\n",
      "Hay pocos Personal Products\n",
      "Hay pocos Semiconductor - Broad Line\n",
      "48\n",
      "Hay pocos Agricultural Chemicals\n",
      "Hay pocos Apparel Stores\n",
      "Hay pocos Personal Products\n",
      "47\n",
      "Hay pocos Agricultural Chemicals\n",
      "Hay pocos Asset Management\n",
      "Hay pocos Gold\n",
      "Hay pocos Money Center Banks\n",
      "Hay pocos Personal Products\n",
      "46\n",
      "Hay pocos Agricultural Chemicals\n",
      "Hay pocos Asset Management\n",
      "Hay pocos Gold\n",
      "Hay pocos Money Center Banks\n",
      "Hay pocos Personal Products\n",
      "Hay pocos Semiconductor - Broad Line\n",
      "45\n",
      "Hay pocos Agricultural Chemicals\n",
      "Hay pocos Asset Management\n",
      "Hay pocos Money Center Banks\n",
      "Hay pocos Personal Products\n",
      "44\n",
      "Hay pocos Apparel Stores\n",
      "Hay pocos Specialty Retail, Other\n",
      "43\n",
      "Hay pocos Apparel Stores\n",
      "Hay pocos Specialty Retail, Other\n",
      "42\n",
      "Hay pocos Apparel Stores\n",
      "Hay pocos Independent Oil & Gas\n",
      "41\n",
      "Hay pocos Apparel Stores\n",
      "40\n",
      "Hay pocos Agricultural Chemicals\n",
      "Hay pocos Apparel Stores\n",
      "Hay pocos Networking & Communication Devices\n",
      "39\n",
      "Hay pocos Agricultural Chemicals\n",
      "Hay pocos Networking & Communication Devices\n",
      "Hay pocos REIT - Diversified\n",
      "38\n",
      "Hay pocos Networking & Communication Devices\n",
      "37\n",
      "Hay pocos Apparel Stores\n",
      "Hay pocos Networking & Communication Devices\n",
      "Hay pocos REIT - Diversified\n",
      "36\n",
      "Hay pocos Apparel Stores\n",
      "Hay pocos Networking & Communication Devices\n",
      "Hay pocos REIT - Diversified\n",
      "35\n",
      "Hay pocos Agricultural Chemicals\n",
      "Hay pocos Apparel Stores\n",
      "Hay pocos Networking & Communication Devices\n",
      "Hay pocos REIT - Diversified\n",
      "34\n",
      "Hay pocos Networking & Communication Devices\n",
      "Hay pocos REIT - Diversified\n",
      "33\n",
      "Hay pocos Apparel Stores\n",
      "Hay pocos REIT - Diversified\n",
      "32\n",
      "Hay pocos Apparel Stores\n",
      "31\n",
      "Hay pocos Agricultural Chemicals\n",
      "30\n",
      "Hay pocos Apparel Stores\n",
      "Hay pocos Foreign Regional Banks\n",
      "Hay pocos Money Center Banks\n",
      "29\n",
      "Hay pocos Foreign Regional Banks\n",
      "28\n",
      "Hay pocos Auto Dealerships\n",
      "Hay pocos Foreign Regional Banks\n",
      "27\n",
      "Hay pocos Auto Dealerships\n",
      "26\n",
      "Hay pocos Foreign Regional Banks\n",
      "Hay pocos Money Center Banks\n",
      "25\n",
      "24\n",
      "23\n",
      "Hay pocos Money Center Banks\n",
      "22\n",
      "21\n",
      "20\n"
     ]
    }
   ],
   "source": [
    "pronter = []\n",
    "cat_store = []\n",
    "data_path = '../stock-market-scraper-master/historic_data/'\n",
    "categories = listdir(data_path)\n",
    "num = M_ * 2\n",
    "for i in np.arange(L_,L_+30)[::-1]:\n",
    "    seed = i\n",
    "    categ , p = scavenger(categories,seed,num)\n",
    "    result , aux = tester(categ,p,seed)\n",
    "    print(i)\n",
    "    pronter.append(result)\n"
   ]
  },
  {
   "cell_type": "code",
   "execution_count": 31,
   "metadata": {},
   "outputs": [
    {
     "data": {
      "text/plain": [
       "<matplotlib.legend.Legend at 0x1997611dc10>"
      ]
     },
     "execution_count": 31,
     "metadata": {},
     "output_type": "execute_result"
    },
    {
     "data": {
      "image/png": "[encoded data removed]",
      "text/plain": [
       "<Figure size 640x480 with 1 Axes>"
      ]
     },
     "metadata": {},
     "output_type": "display_data"
    }
   ],
   "source": [
    "pronter = np.array(pronter)\n",
    "days = np.arange(1,pronter.shape[0]+1)\n",
    "#plt.plot(days,pronter[:,1],label='equal investment')\n",
    "#plt.plot(days,pronter[:,2],label='weighted investment')\n",
    "plt.plot(days,pronter,label='max investment')\n",
    "plt.plot(np.zeros((pronter.shape[0])))\n",
    "plt.ylabel('Interest')\n",
    "plt.xlabel('Days')\n",
    "plt.grid(which='both')\n",
    "plt.legend()"
   ]
  },
  {
   "cell_type": "code",
   "execution_count": 32,
   "metadata": {},
   "outputs": [
    {
     "data": {
      "image/png": "[encoded data removed]",
      "text/plain": [
       "<Figure size 640x480 with 1 Axes>"
      ]
     },
     "metadata": {},
     "output_type": "display_data"
    }
   ],
   "source": [
    "from scipy import integrate\n",
    "#x = np.linspace(-2, 2, num=20)\n",
    "x = days\n",
    "pront = np.array(pronter)\n",
    "#y_int = integrate.cumtrapz(pronter[:,1]/x, days, initial=0)\n",
    "#y_wei = integrate.cumtrapz(pronter[:,2]/x, days, initial=0)\n",
    "y_max = integrate.cumtrapz(pronter/x, days, initial=0)\n",
    "#plt.plot(x, y_int,label='integrated equal investment')\n",
    "#plt.plot(x, y_wei,label='integrated weighted investment')\n",
    "plt.plot(x, y_max,label='integrated max investment')\n",
    "plt.legend()\n",
    "plt.show()"
   ]
  },
  {
   "cell_type": "code",
   "execution_count": null,
   "metadata": {},
   "outputs": [],
   "source": []
  }
 ],
 "metadata": {
  "kernelspec": {
   "display_name": "Python 3.10.4 ('IMG')",
   "language": "python",
   "name": "python3"
  },
  "language_info": {
   "codemirror_mode": {
    "name": "ipython",
    "version": 3
   },
   "file_extension": ".py",
   "mimetype": "text/x-python",
   "name": "python",
   "nbconvert_exporter": "python",
   "pygments_lexer": "ipython3",
   "version": "3.11.2"
  },
  "orig_nbformat": 4,
  "vscode": {
   "interpreter": {
    "hash": "8bea78a28da56c8a7bd1c0693603b72a3b864fe9df0188024d4e7aca83cc4cd1"
   }
  }
 },
 "nbformat": 4,
 "nbformat_minor": 2
}
